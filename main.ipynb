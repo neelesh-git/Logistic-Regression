{
 "cells": [
  {
   "cell_type": "code",
   "execution_count": 306,
   "metadata": {},
   "outputs": [],
   "source": [
    "import numpy as np \n",
    "import pandas as pd \n",
    "import matplotlib.pyplot as plt "
   ]
  },
  {
   "cell_type": "code",
   "execution_count": 307,
   "metadata": {},
   "outputs": [],
   "source": [
    "df = pd.read_csv(\"wdbc.dataset\", header = None) "
   ]
  },
  {
   "cell_type": "code",
   "execution_count": 308,
   "metadata": {},
   "outputs": [],
   "source": [
    "#Drop id coloumn and change M,B to 1,0\n",
    "df.drop(columns = [0], axis = 1) \n",
    "df.iloc[:,1] = [1 if each == \"M\" else 0 for each in df.iloc[:,1]] "
   ]
  },
  {
   "cell_type": "code",
   "execution_count": 309,
   "metadata": {},
   "outputs": [],
   "source": [
    "#Divide to Y and X\n",
    "y = df.iloc[:,1].values \n",
    "x_df = df.drop(columns = [0], axis = 1) "
   ]
  },
  {
   "cell_type": "code",
   "execution_count": 310,
   "metadata": {},
   "outputs": [],
   "source": [
    "#Normalisation\n",
    "x = (x_df - np.min(x_df))/(np.max(x_df) - np.min(x_df)).values "
   ]
  },
  {
   "cell_type": "code",
   "execution_count": 311,
   "metadata": {},
   "outputs": [],
   "source": [
    "#Split to Train Val Test\n",
    "from sklearn.model_selection import train_test_split \n",
    "x_train, x_rem, y_train, y_rem = train_test_split( x, y, test_size = 0.8, random_state = 42) \n",
    "x_test, x_val, y_test, y_val = train_test_split( x_rem, y_rem, test_size = 0.5, random_state = 42) \n",
    "\n",
    "x_train = x_train.T \n",
    "x_test = x_test.T \n",
    "x_val = x_val.T \n",
    "y_train = y_train.T \n",
    "y_train = y_train.T \n",
    "y_val = y_val.T \n",
    "TP = 0\n",
    "FP = 0\n",
    "FN = 0\n",
    "TN = 0"
   ]
  },
  {
   "cell_type": "code",
   "execution_count": 312,
   "metadata": {},
   "outputs": [],
   "source": [
    "#Bias and weights\n",
    "def weights_bias(dimension): \n",
    "    w = np.full((dimension, 1), 0.01) \n",
    "    b = 1.0\n",
    "    return w, b "
   ]
  },
  {
   "cell_type": "code",
   "execution_count": 313,
   "metadata": {},
   "outputs": [],
   "source": [
    "# Sigmoid Func\n",
    "def sigmoid(z): \n",
    "    y_head = 1/(1 + np.exp(-z)) \n",
    "    return y_head "
   ]
  },
  {
   "cell_type": "code",
   "execution_count": 314,
   "metadata": {},
   "outputs": [],
   "source": [
    "#Calculate cost and update\n",
    "def loss_func(w, b, x_train, y_train): \n",
    "    z = np.dot(w.T, x_train) + b \n",
    "    y_head = sigmoid(z) \n",
    "    loss =  y_train * np.log(y_head) + (1 - y_train) * np.log(1 - y_head) \n",
    "    # x_train.shape[1] m \n",
    "    cost = (np.sum(-loss)) / x_train.shape[1]\n",
    "    # partial derivative\n",
    "    do_weight = (np.dot(x_train, ( (y_head - y_train).T))) / x_train.shape[1] \n",
    "    do_bias = np.sum( y_head-y_train) / x_train.shape[1]\n",
    "    wts_bias= {\"do_weight\": do_weight, \"do_bias\": do_bias} \n",
    "    return cost, wts_bias"
   ]
  },
  {
   "cell_type": "code",
   "execution_count": 315,
   "metadata": {},
   "outputs": [],
   "source": [
    "#Learning the model\n",
    "def update(w, b, x_train, y_train, alpha, epoch): \n",
    "    cost_list = [] \n",
    "    cost_list2 = [] \n",
    "    index = [] \n",
    "    # updating learning parameters\n",
    "    for i in range(epoch): \n",
    "        # loss func \n",
    "        cost, wts_bias = loss_func(w, b, x_train, y_train) \n",
    "        cost_list.append(cost) \n",
    "        #update \n",
    "        w = w - alpha * wts_bias[\"do_weight\"] \n",
    "        b = b - alpha * wts_bias[\"do_bias\"] \n",
    "        if i % 10 == 0: \n",
    "            cost_list2.append(cost) \n",
    "            index.append(i) \n",
    "            #print (\"Cost after iteration % i: % f\" %(i, cost)) \n",
    "    # plot\n",
    "    parameters = {\"weight\": w, \"bias\": b} \n",
    "    plt.plot(index, cost_list2) \n",
    "    #plt.xticks(index, rotation ='vertical') \n",
    "    plt.xlabel(\"Number of Iterarion\") \n",
    "    plt.ylabel(\"Cost\") \n",
    "    plt.show() \n",
    "    return parameters, wts_bias, cost_list "
   ]
  },
  {
   "cell_type": "code",
   "execution_count": 316,
   "metadata": {},
   "outputs": [],
   "source": [
    "#Predict Values\n",
    "def predict(w, b, x_test): \n",
    "    # x_test is a input for loss\n",
    "    z = sigmoid(np.dot(w.T, x_test)+b) \n",
    "    Y_prediction = np.zeros((1, x_test.shape[1])) \n",
    "    #print(z)\n",
    "    \n",
    "    for i in range(z.shape[1]): \n",
    "        if z[0, i] <= 0.5: \n",
    "            Y_prediction[0, i] = 0\n",
    "        else: \n",
    "            Y_prediction[0, i] = 1\n",
    "    return Y_prediction "
   ]
  },
  {
   "cell_type": "code",
   "execution_count": 323,
   "metadata": {},
   "outputs": [
    {
     "data": {
      "image/png": "[encoded data removed]",
      "text/plain": [
       "<Figure size 432x288 with 1 Axes>"
      ]
     },
     "metadata": {},
     "output_type": "display_data"
    }
   ],
   "source": [
    "#Func Logistic\n",
    "def logistic_regression(x_train, y_train, x_test, alpha, epoch): \n",
    "    \n",
    "    dimension = x_train.shape[0] \n",
    "    w, b = weights_bias(dimension) \n",
    "    parameters, wts_bias, cost_list = update( w, b, x_train, y_train, alpha, epoch) \n",
    "    \n",
    "    y_prediction_test = predict( parameters[\"weight\"], parameters[\"bias\"], x_test) \n",
    "    #y_prediction_train = predict( parameters[\"weight\"], parameters[\"bias\"], x_train) \n",
    "    return y_prediction_test\n",
    "    \n",
    "resul = logistic_regression(x_train, y_train, x_test, alpha = 0.3, epoch = 1000) "
   ]
  },
  {
   "cell_type": "code",
   "execution_count": 324,
   "metadata": {},
   "outputs": [
    {
     "name": "stdout",
     "output_type": "stream",
     "text": [
      "Accuracy: 76.31578947368422\n",
      "Precision: 65.66265060240963\n",
      "Recall: 68.125\n"
     ]
    }
   ],
   "source": [
    "for i in range(0, len(resul[0,])):\n",
    "    if(resul[0,i] == 1):\n",
    "        if(y_test[i] == 1):\n",
    "            TP+=1\n",
    "        else:\n",
    "            FP+=1\n",
    "    if(resul[0,i] == 0):\n",
    "        if(y_test[i] == 0):\n",
    "            TN+=1\n",
    "        else:\n",
    "            FN+=1\n",
    "#Accuracy\n",
    "acc = (TP+TN)/(TP+FP+TN+FN)\n",
    "#Precision\n",
    "prece = (TP)/(TP+FP)\n",
    "#Recall\n",
    "recall = (TP)/(TP+FN)\n",
    "print(\"Accuracy:\", acc*100)\n",
    "print(\"Precision:\", prece*100)\n",
    "print(\"Recall:\", recall*100)\n",
    "            "
   ]
  },
  {
   "cell_type": "code",
   "execution_count": null,
   "metadata": {},
   "outputs": [],
   "source": []
  },
  {
   "cell_type": "code",
   "execution_count": null,
   "metadata": {},
   "outputs": [],
   "source": []
  },
  {
   "cell_type": "code",
   "execution_count": null,
   "metadata": {},
   "outputs": [],
   "source": []
  }
 ],
 "metadata": {
  "kernelspec": {
   "display_name": "Python 3",
   "language": "python",
   "name": "python3"
  },
  "language_info": {
   "codemirror_mode": {
    "name": "ipython",
    "version": 3
   },
   "file_extension": ".py",
   "mimetype": "text/x-python",
   "name": "python",
   "nbconvert_exporter": "python",
   "pygments_lexer": "ipython3",
   "version": "3.6.5"
  }
 },
 "nbformat": 4,
 "nbformat_minor": 2
}
